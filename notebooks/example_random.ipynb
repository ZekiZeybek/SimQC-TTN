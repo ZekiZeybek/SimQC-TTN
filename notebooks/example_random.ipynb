{
 "cells": [
  {
   "cell_type": "markdown",
   "id": "cf43e928",
   "metadata": {},
   "source": [
    "# Random Circuit: Example Run\n",
    "\n",
    "This notebook demonstrates how to use the `SimQC-TTN` package to simulate a random circuit interactively\n",
    "\n",
    "## 1. Import required modules"
   ]
  },
  {
   "cell_type": "code",
   "execution_count": null,
   "id": "ead93840",
   "metadata": {},
   "outputs": [],
   "source": [
    "# Setup: add src/ to sys.path\n",
    "# Must !!! This allows importing from src/ even when running the notebook from notebooks/ directory !!!\n",
    "import sys, os\n",
    "repo_root = os.path.abspath(os.path.join(os.getcwd(), \"..\"))\n",
    "src = os.path.join(repo_root, \"src\")\n",
    "if src not in sys.path:\n",
    "    sys.path.insert(0, src)\n",
    "    "
   ]
  },
  {
   "cell_type": "code",
   "execution_count": null,
   "id": "ede03dd8",
   "metadata": {},
   "outputs": [],
   "source": [
    "from simqc_ttn.simulation.sim_rand_circ import sim_rand, chi_bra_layers\n",
    "import numpy as np\n",
    "import matplotlib.pyplot as plt"
   ]
  },
  {
   "cell_type": "markdown",
   "id": "a5f9d49a",
   "metadata": {},
   "source": [
    "## 1) Configure circuit"
   ]
  },
  {
   "cell_type": "code",
   "execution_count": null,
   "id": "02da65f4",
   "metadata": {},
   "outputs": [],
   "source": [
    "# Number of qubits\n",
    "num_of_qbts = 16 \n",
    "\n",
    "# Bond dimensions for the variational binary tree tensor network layers\n",
    "# Example: chi_bra = [8, 4, 2] for a 8-qubit system, which corresponds to 3 layers of the binary tree (2^3 = 8)\n",
    "# Root node:  R\n",
    "#            / \\ -----> chi_bra[0] = 8\n",
    "#           L1   R1\n",
    "#          / \\   / \\ -----> chi_bra[1] = 4\n",
    "#        L2  L3 R2  R3\n",
    "#        /\\  /\\ /\\  /\\ -----> chi_bra[2] = 2\n",
    "#      q1q2q3q4q5q6q7q8\n",
    "chi_bra =chi_bra_layers([12,8,4,2]) # Bond dimensions for the variational binary tree tensor network layers\n",
    "\n",
    "# Circuit depth: number of two-layer (even-odd, brickwall) blocks of random two-qubit gates\n",
    "circ_depth =4\n",
    "\n",
    "# Number of sweeps for the DMRG optimization\n",
    "num_sweeps = 4\n"
   ]
  },
  {
   "cell_type": "markdown",
   "id": "836d4a38",
   "metadata": {},
   "source": [
    "## 2) Run simulation"
   ]
  },
  {
   "cell_type": "code",
   "execution_count": null,
   "id": "653e327c",
   "metadata": {},
   "outputs": [],
   "source": [
    "final_state,layer_fids = sim_rand(circ_depth=circ_depth,\n",
    "                                     num_of_qbts=num_of_qbts,\n",
    "                                     chi_bra=chi_bra,\n",
    "                                     num_sweeps=num_sweeps)\n",
    "#final_state: Final binary tree tensor network state (as a network object) after compressing the last layer of gates\n",
    "# one can inspect the final_state to extract the tensors and do further computations with functions in binary_tree_netw.py or with custom code\n",
    "\n",
    "#layer_fids: List of fidelities after compressing each layer of two-qubit gates\n",
    "\n",
    "F_tilde = np.prod(layer_fids)\n",
    "print('F_tilde (total simulation fidelity): ',F_tilde)"
   ]
  },
  {
   "cell_type": "markdown",
   "id": "423b5541",
   "metadata": {},
   "source": [
    "## 3) Plot"
   ]
  },
  {
   "cell_type": "code",
   "execution_count": null,
   "id": "8e000600",
   "metadata": {},
   "outputs": [],
   "source": [
    "plt.figure()\n",
    "plt.plot(np.arange(1, len(layer_fids)+1), layer_fids, marker='o')\n",
    "plt.xlabel(\"Depth\")\n",
    "plt.ylabel(\"Fidelity\")\n",
    "plt.title(\"Random circuit compression fidelities after each depth\")"
   ]
  }
 ],
 "metadata": {
  "kernelspec": {
   "display_name": "tenpy",
   "language": "python",
   "name": "python3"
  },
  "language_info": {
   "codemirror_mode": {
    "name": "ipython",
    "version": 3
   },
   "file_extension": ".py",
   "mimetype": "text/x-python",
   "name": "python",
   "nbconvert_exporter": "python",
   "pygments_lexer": "ipython3",
   "version": "3.10.16"
  }
 },
 "nbformat": 4,
 "nbformat_minor": 5
}
