{
 "cells": [
  {
   "cell_type": "markdown",
   "id": "f208f602",
   "metadata": {},
   "source": [
    "# QAOA Circuit: Example Run\n",
    "\n",
    "This notebook demonstrates how to use the `SimQC-TTN` package to simulate a QAOA circuit interactively\n",
    "\n",
    "## 1. Import required modules"
   ]
  },
  {
   "cell_type": "code",
   "execution_count": null,
   "id": "ac0ccfce",
   "metadata": {},
   "outputs": [],
   "source": [
    "# Setup: add src/ to sys.path\n",
    "# Must !!! This allows importing from src/ even when running the notebook from notebooks/ directory !!!\n",
    "import sys, os\n",
    "repo_root = os.path.abspath(os.path.join(os.getcwd(), \"..\"))\n",
    "src = os.path.join(repo_root, \"src\")\n",
    "if src not in sys.path:\n",
    "    sys.path.insert(0, src)\n",
    "    "
   ]
  },
  {
   "cell_type": "code",
   "execution_count": null,
   "id": "5d75a950",
   "metadata": {},
   "outputs": [],
   "source": [
    "import numpy as np\n",
    "from simqc_ttn.simulation.sim_qaoa_circ import sim_qaoa_flexible,sim_qaoa_native,generate_linear_graph,generate_3_regular_graph,chi_bra_layers\n",
    "import matplotlib.pyplot as plt"
   ]
  },
  {
   "cell_type": "markdown",
   "id": "ea4608a8",
   "metadata": {},
   "source": [
    "## 1) Configure circuit"
   ]
  },
  {
   "cell_type": "code",
   "execution_count": null,
   "id": "b9b184e7",
   "metadata": {},
   "outputs": [],
   "source": [
    "# Number of qubits\n",
    "num_of_qbts = 16 \n",
    "\n",
    "# Bond dimensions for the variational binary tree tensor network layers\n",
    "# Example: chi_bra = [8, 4, 2] for a 8-qubit system, which corresponds to 3 layers of the binary tree (2^3 = 8)\n",
    "# Root node:  R\n",
    "#            / \\ -----> chi_bra[0] = 8\n",
    "#           L1   R1\n",
    "#          / \\   / \\ -----> chi_bra[1] = 4\n",
    "#        L2  L3 R2  R3\n",
    "#        /\\  /\\ /\\  /\\ -----> chi_bra[2] = 2\n",
    "#      q1q2q3q4q5q6q7q8\n",
    "chi_bra =chi_bra_layers([12,8,4,2]) # Bond dimensions for the variational binary tree tensor network layers\n",
    "\n",
    "# Circuit depth: number of QAOA layers (Cost function + Mixer)\n",
    "# For standard QAOA, one depth = one layer of cost Hamiltonian + one layer of mixer Hamiltonian\n",
    "\n",
    "circ_depth =4\n",
    "\n",
    "# Number of sweeps for the DMRG optimization\n",
    "num_sweeps = 4\n",
    "\n",
    "# Generate a random 3-regular graph for the QAOA cost Hamiltonian\n",
    "seed = 42  # Random seed for reproducibility\n",
    "graph_obj,edge_list = generate_3_regular_graph(num_of_qbts,seed=seed) # List of edges in the graph, to be used in the cost Hamiltonian"
   ]
  },
  {
   "cell_type": "markdown",
   "id": "83542bdb",
   "metadata": {},
   "source": [
    "## 2) Standard Run: One depth = One layer of full QAOA (Cost function + Mixer)"
   ]
  },
  {
   "cell_type": "code",
   "execution_count": null,
   "id": "90a09dfa",
   "metadata": {},
   "outputs": [],
   "source": [
    "dmrg_circ, layer_fids = sim_qaoa_native(edges=edge_list,\n",
    "                                            circ_depth=circ_depth,\n",
    "                                            num_qbts=num_of_qbts,\n",
    "                                            chi_bra=chi_bra,\n",
    "                                            sweep_per_comp=num_sweeps)\n",
    "    \n",
    "\n",
    "F_tilde = np.prod(layer_fids)\n",
    "print('F_tilde: ',F_tilde)"
   ]
  },
  {
   "cell_type": "markdown",
   "id": "59f2d827",
   "metadata": {},
   "source": [
    "## 3) Flexible Run: A single depth is determined by the number of two-qubit gates considered"
   ]
  },
  {
   "cell_type": "code",
   "execution_count": null,
   "id": "92a7ba01",
   "metadata": {},
   "outputs": [],
   "source": [
    "# For flexible QAOA (see below), one depth still the same (Cost function + Mixer) but compression layer is determined by the number of two-qubit gates considered\n",
    "N2g_per_comp = 20 # Number of two-qubit gates per compression step, must be less than total number of edges in the graph\n",
    "dmrg_circ, layer_fids = sim_qaoa_flexible(edges=edge_list,\n",
    "                                               num_QAOA_layer=circ_depth,\n",
    "                                               num_qbts=num_of_qbts,\n",
    "                                               chi_bra=chi_bra,\n",
    "                                               N2g_per_comp=N2g_per_comp,\n",
    "                                               sweep_per_comp=num_sweeps)\n",
    "    \n",
    "    \n",
    "F_tilde = np.prod(layer_fids)\n",
    "print('F_tilde: ',F_tilde)"
   ]
  }
 ],
 "metadata": {
  "kernelspec": {
   "display_name": "tenpy",
   "language": "python",
   "name": "python3"
  },
  "language_info": {
   "codemirror_mode": {
    "name": "ipython",
    "version": 3
   },
   "file_extension": ".py",
   "mimetype": "text/x-python",
   "name": "python",
   "nbconvert_exporter": "python",
   "pygments_lexer": "ipython3",
   "version": "3.10.16"
  }
 },
 "nbformat": 4,
 "nbformat_minor": 5
}
